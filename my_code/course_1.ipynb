{
  "nbformat": 4,
  "nbformat_minor": 0,
  "metadata": {
    "colab": {
      "provenance": []
    },
    "kernelspec": {
      "name": "python3",
      "display_name": "Python 3"
    },
    "language_info": {
      "name": "python"
    }
  },
  "cells": [
    {
      "cell_type": "code",
      "execution_count": null,
      "metadata": {
        "colab": {
          "base_uri": "https://localhost:8080/"
        },
        "id": "mrdKnQdTX-5l",
        "outputId": "b54192db-592e-4a47-b59b-d3a80762a516"
      },
      "outputs": [
        {
          "output_type": "stream",
          "name": "stdout",
          "text": [
            "University of Michigan\n"
          ]
        }
      ],
      "source": [
        "print(\"University of Michigan\")"
      ]
    },
    {
      "cell_type": "code",
      "source": [
        "x1q3z9ocd = 35.0\n",
        "x1q3z9afd = 13.6\n",
        "x1q3p9afd = x1q3z9ocd - x1q3z9afd\n",
        "\n",
        "print(x1q3p9afd)"
      ],
      "metadata": {
        "colab": {
          "base_uri": "https://localhost:8080/"
        },
        "id": "enYgSgKFCULM",
        "outputId": "dc453e75-9eca-4a1b-b908-847bf8fcb994"
      },
      "execution_count": null,
      "outputs": [
        {
          "output_type": "stream",
          "name": "stdout",
          "text": [
            "21.4\n"
          ]
        }
      ]
    },
    {
      "cell_type": "code",
      "source": [
        "weekly_working_hours = 45\n",
        "week_days = 5\n",
        "lunch_day = 1\n",
        "\n",
        "hours_day = (weekly_working_hours / week_days) + lunch_day\n",
        "\n",
        "print(hours_day)"
      ],
      "metadata": {
        "colab": {
          "base_uri": "https://localhost:8080/"
        },
        "id": "VuWQ3CmiC2Rn",
        "outputId": "7495db18-ff93-4c7f-c427-d9122c42e82d"
      },
      "execution_count": null,
      "outputs": [
        {
          "output_type": "stream",
          "name": "stdout",
          "text": [
            "10.0\n"
          ]
        }
      ]
    },
    {
      "cell_type": "code",
      "source": [
        "x = 1 + 2 ** 3 / 4 * 5\n",
        "print(x)"
      ],
      "metadata": {
        "colab": {
          "base_uri": "https://localhost:8080/"
        },
        "id": "1LbikGw4Fg-m",
        "outputId": "6cae159d-0bcb-44d9-e2e0-16da6371a3a6"
      },
      "execution_count": null,
      "outputs": [
        {
          "output_type": "stream",
          "name": "stdout",
          "text": [
            "11.0\n"
          ]
        }
      ]
    },
    {
      "cell_type": "code",
      "source": [
        "word = \"CarePito \"\n",
        "times = 3\n",
        "\n",
        "word_x3 = word * times\n",
        "print(word_x3.strip())\n",
        "\n",
        "#word_plus3 = word + times\n",
        "#print(word_plus3)"
      ],
      "metadata": {
        "colab": {
          "base_uri": "https://localhost:8080/"
        },
        "id": "4dvt5RhXGCer",
        "outputId": "d4bde94a-936d-4ec0-9442-4da3345cc9ed"
      },
      "execution_count": null,
      "outputs": [
        {
          "output_type": "stream",
          "name": "stdout",
          "text": [
            "CarePito CarePito CarePito\n"
          ]
        }
      ]
    },
    {
      "cell_type": "code",
      "source": [
        "print(99/100)"
      ],
      "metadata": {
        "colab": {
          "base_uri": "https://localhost:8080/"
        },
        "id": "mjIm6zW-7EXR",
        "outputId": "a28bbe36-1b4b-441d-8e76-a0a9f5f1dc03"
      },
      "execution_count": null,
      "outputs": [
        {
          "output_type": "stream",
          "name": "stdout",
          "text": [
            "0.99\n"
          ]
        }
      ]
    },
    {
      "cell_type": "code",
      "source": [
        "# Elevator Europ to US Floor number\n",
        "\n",
        "Floor_number = input(\"Europe floor number? \")\n",
        "floor_us = int(Floor_number) + 1\n",
        "\n",
        "print(f\"In the U.S the floor number is: {floor_us}\")"
      ],
      "metadata": {
        "colab": {
          "base_uri": "https://localhost:8080/"
        },
        "id": "jOu7GKpg8tsv",
        "outputId": "931eed63-e2e2-4600-ec17-84cf2914f213"
      },
      "execution_count": null,
      "outputs": [
        {
          "output_type": "stream",
          "name": "stdout",
          "text": [
            "Europe floor number? 2\n",
            "In the U.S the floor number is: 3\n"
          ]
        }
      ]
    },
    {
      "cell_type": "code",
      "source": [
        "print(42 % 10)\n",
        "print(int(98.6))"
      ],
      "metadata": {
        "colab": {
          "base_uri": "https://localhost:8080/"
        },
        "id": "rm6bWT3X94iS",
        "outputId": "43391678-6ea0-4372-835c-5216918e59a8"
      },
      "execution_count": null,
      "outputs": [
        {
          "output_type": "stream",
          "name": "stdout",
          "text": [
            "2\n",
            "98\n"
          ]
        }
      ]
    },
    {
      "cell_type": "markdown",
      "source": [
        "***\n",
        "# Module 5"
      ],
      "metadata": {
        "id": "R134IW23BKHE"
      }
    },
    {
      "cell_type": "code",
      "source": [
        "astr = \"12e35\"\n",
        "\n",
        "try:\n",
        "  print(\"Here we go\")\n",
        "  istr = int(astr)\n",
        "  print(\"Number converted\")\n",
        "\n",
        "except:\n",
        "  istr = -1\n",
        "\n",
        "print(\"Program finished\", istr)"
      ],
      "metadata": {
        "colab": {
          "base_uri": "https://localhost:8080/"
        },
        "id": "rp6J8VaRBMgI",
        "outputId": "ea2b78ff-6076-4cf3-f56d-afa1075cd2b4"
      },
      "execution_count": null,
      "outputs": [
        {
          "output_type": "stream",
          "name": "stdout",
          "text": [
            "Here we go\n",
            "Program finished -1\n"
          ]
        }
      ]
    },
    {
      "cell_type": "markdown",
      "source": [
        "3.1 Write a program to prompt the user for hours and rate per hour using input to compute gross pay. Pay the hourly rate for the hours up to 40 and 1.5 times the hourly rate for all hours worked above 40 hours. Use 45 hours and a rate of 10.50 per hour to test the program (the pay should be 498.75). You should use input to read a string and float() to convert the string to a number. Do not worry about error checking the user input - assume the user types numbers properly."
      ],
      "metadata": {
        "id": "CRm_RJxrHEBO"
      }
    },
    {
      "cell_type": "code",
      "source": [
        "hrs_w = input(\"Enter number of worked hours: \")\n",
        "rate_40 = input(\"Enter the rate per hour: \")\n",
        "\n",
        "try:\n",
        "  hrs = float(hrs_w)\n",
        "  rate = float(rate_40)\n",
        "except:\n",
        "  hrs = 0\n",
        "  rate = 0\n",
        "\n",
        "\n",
        "\n",
        "if hrs > 40:\n",
        "  rate_40plus = rate * 1.5\n",
        "  plus_hours = hrs - 40\n",
        "  payment = (40* rate) + (plus_hours * rate_40plus)\n",
        "else:\n",
        "  payment = hrs * rate\n",
        "\n",
        "print(f\"Payment: {payment}\")"
      ],
      "metadata": {
        "colab": {
          "base_uri": "https://localhost:8080/"
        },
        "id": "6tliiVW5HEzF",
        "outputId": "424193ef-2787-4e12-f94d-3ecf00063736"
      },
      "execution_count": null,
      "outputs": [
        {
          "output_type": "stream",
          "name": "stdout",
          "text": [
            "Enter number of worked hours: 45\n",
            "Enter the rate per hour: 10.5\n",
            "Payment: 498.75\n"
          ]
        }
      ]
    },
    {
      "cell_type": "markdown",
      "source": [
        "3.3 Write a program to prompt for a score between 0.0 and 1.0. If the score is out of range, print an error. If the score is between 0.0 and 1.0, print a grade using the following table:\n",
        "Score Grade\n",
        ">= 0.9 A\n",
        ">= 0.8 B\n",
        ">= 0.7 C\n",
        ">= 0.6 D\n",
        "< 0.6 F\n",
        "If the user enters a value out of range, print a suitable error message and exit. For the test, enter a score of 0.85."
      ],
      "metadata": {
        "id": "dyNzhf_-0UDk"
      }
    },
    {
      "cell_type": "code",
      "source": [
        "score = input(\"Enter the score: \")\n",
        "\n",
        "try:\n",
        "  score = float(score)\n",
        "except:\n",
        "  print(\"Please enter a number\")\n",
        "  quit()\n",
        "\n",
        "if score < 0 or score > 1:\n",
        "  print(\"Score out of range.\")\n",
        "  quit()\n",
        "elif score < 0.6:\n",
        "  grade = \"F\"\n",
        "elif score < 0.7:\n",
        "  grade = \"D\"\n",
        "elif score < 0.8:\n",
        "  grade = \"C\"\n",
        "elif score < 0.9:\n",
        "  grade = \"B\"\n",
        "else:\n",
        "  grade = \"A\"\n",
        "\n",
        "print(grade)"
      ],
      "metadata": {
        "colab": {
          "base_uri": "https://localhost:8080/"
        },
        "id": "FWsq39nX0Vtt",
        "outputId": "9698c2a2-d08e-45ba-8156-4e90f34877ad"
      },
      "execution_count": null,
      "outputs": [
        {
          "output_type": "stream",
          "name": "stdout",
          "text": [
            "Enter the score: l\n",
            "Please enter a number\n",
            "Score out of range.\n",
            "Your score: -1 is a  grade\n"
          ]
        }
      ]
    },
    {
      "cell_type": "markdown",
      "source": [
        "***\n",
        "# Module 6\n",
        "## Functions"
      ],
      "metadata": {
        "id": "PesPI9ozApRE"
      }
    },
    {
      "cell_type": "code",
      "source": [
        "def print_lyrics():\n",
        "  print(\"LLego la hora de partir, sin medir distancias\")\n",
        "  print(\"Y muy triste quedara mi corazon\")\n",
        "\n",
        "print_lyrics()"
      ],
      "metadata": {
        "id": "sQYBueso05O6",
        "colab": {
          "base_uri": "https://localhost:8080/"
        },
        "outputId": "541c0c84-809c-4b4b-db06-5028c339c86e"
      },
      "execution_count": null,
      "outputs": [
        {
          "output_type": "stream",
          "name": "stdout",
          "text": [
            "LLego la hora de partir, sin medir distancias\n",
            "Y muy triste quedara mi corazon\n"
          ]
        }
      ]
    },
    {
      "cell_type": "code",
      "source": [
        "def greet(lang):\n",
        "\n",
        "  lang = lang.upper()\n",
        "\n",
        "  if lang == \"RU\":\n",
        "    print(\"Hola en Ruso\")\n",
        "  elif lang == \"FR\":\n",
        "    print(\"Hola en Frances\")\n",
        "  else:\n",
        "    print(\"Que se dice mi perrito\")\n",
        "\n",
        "greet(\"jp\")"
      ],
      "metadata": {
        "colab": {
          "base_uri": "https://localhost:8080/"
        },
        "id": "5ntqZ0mlDeQX",
        "outputId": "1e0c761e-86d9-41d9-db4b-bca765c3e84b"
      },
      "execution_count": null,
      "outputs": [
        {
          "output_type": "stream",
          "name": "stdout",
          "text": [
            "Que se dice mi perrito\n"
          ]
        }
      ]
    },
    {
      "cell_type": "markdown",
      "source": [
        "4.6 Write a program to prompt the user for hours and rate per hour using input to compute gross pay. Pay should be the normal rate for hours up to 40 and time-and-a-half for the hourly rate for all hours worked above 40 hours. Put the logic to do the computation of pay in a function called computepay() and use the function to do the computation. The function should return a value. Use 45 hours and a rate of 10.50 per hour to test the program (the pay should be 498.75). You should use input to read a string and float() to convert the string to a number. Do not worry about error checking the user input unless you want to - you can assume the user types numbers properly. Do not name your variable sum or use the sum() function"
      ],
      "metadata": {
        "id": "IY3-d7lmF96M"
      }
    },
    {
      "cell_type": "code",
      "source": [
        "def computepay(hrs_w,rate_40):\n",
        "  try:\n",
        "    hrs = float(hrs_w)\n",
        "    rate = float(rate_40)\n",
        "  except:\n",
        "    hrs = 0\n",
        "    rate = 0\n",
        "\n",
        "  if hrs > 40:\n",
        "    rate_40plus = rate * 1.5\n",
        "    plus_hours = hrs - 40\n",
        "    payment = (40* rate) + (plus_hours * rate_40plus)\n",
        "  else:\n",
        "    payment = hrs * rate\n",
        "\n",
        "  return payment\n",
        "\n",
        "computepay(45,10.5)"
      ],
      "metadata": {
        "colab": {
          "base_uri": "https://localhost:8080/"
        },
        "id": "1_GxGk5TH568",
        "outputId": "7ae2f374-92ea-46d9-b4c0-acfc6bf7b7fa"
      },
      "execution_count": null,
      "outputs": [
        {
          "output_type": "execute_result",
          "data": {
            "text/plain": [
              "498.75"
            ]
          },
          "metadata": {},
          "execution_count": 10
        }
      ]
    },
    {
      "cell_type": "markdown",
      "source": [
        "***\n",
        "# Module 7\n",
        "## Loops"
      ],
      "metadata": {
        "id": "3ftvqbIy-1h4"
      }
    },
    {
      "cell_type": "code",
      "source": [
        "panas = [\"Pana 1\",\"Pana 2\", \"Pana 10\", \"Pana 20\"]\n",
        "\n",
        "for pana in panas:\n",
        "  print(f\"Que hizo: {pana}\")"
      ],
      "metadata": {
        "colab": {
          "base_uri": "https://localhost:8080/"
        },
        "id": "18nBvkAI-6SR",
        "outputId": "85be47c6-c5d6-4f4e-a43e-d25e46d3ea18"
      },
      "execution_count": null,
      "outputs": [
        {
          "output_type": "stream",
          "name": "stdout",
          "text": [
            "Que hizo: Pana 1\n",
            "Que hizo: Pana 2\n",
            "Que hizo: Pana 10\n",
            "Que hizo: Pana 20\n"
          ]
        }
      ]
    },
    {
      "cell_type": "code",
      "source": [
        "from random import randint\n",
        "\n",
        "number_list = []\n",
        "for num in range(10):\n",
        "  number_list.append(randint(5,500))\n",
        "\n",
        "print(number_list)\n",
        "largest_number = number_list[0]\n",
        "\n",
        "for num in number_list:\n",
        "  if num > largest_number:\n",
        "    print(num)\n",
        "    largest_number = num\n",
        "\n",
        "print(largest_number)"
      ],
      "metadata": {
        "colab": {
          "base_uri": "https://localhost:8080/"
        },
        "id": "xr2hzzJNBx1L",
        "outputId": "01506b6b-3700-47d4-eeae-5e794ceb0dd5"
      },
      "execution_count": null,
      "outputs": [
        {
          "output_type": "stream",
          "name": "stdout",
          "text": [
            "[215, 340, 141, 436, 442, 144, 51, 484, 52, 329]\n",
            "340\n",
            "436\n",
            "442\n",
            "484\n",
            "484\n"
          ]
        }
      ]
    },
    {
      "cell_type": "code",
      "source": [
        "from random import randint\n",
        "\n",
        "number_list = []\n",
        "for num in range(10):\n",
        "  number_list.append(randint(5,500))\n",
        "\n",
        "print(number_list)\n",
        "smallest = None\n",
        "\n",
        "for number in number_list:\n",
        "  if smallest == None:\n",
        "    smallest = number\n",
        "  elif number < smallest:\n",
        "    print(number)\n",
        "    smallest = number\n",
        "\n",
        "print(smallest)"
      ],
      "metadata": {
        "colab": {
          "base_uri": "https://localhost:8080/"
        },
        "id": "-aXZZxXtDmQ7",
        "outputId": "6ea3c9af-990c-458c-a7d1-7a8a08ae8c2a"
      },
      "execution_count": null,
      "outputs": [
        {
          "output_type": "stream",
          "name": "stdout",
          "text": [
            "[396, 405, 39, 225, 274, 337, 406, 89, 83, 232]\n",
            "39\n",
            "39\n"
          ]
        }
      ]
    },
    {
      "cell_type": "markdown",
      "source": [
        "5.2 Write a program that repeatedly prompts a user for integer numbers until the user enters 'done'. Once 'done' is entered, print out the largest and smallest of the numbers. If the user enters anything other than a valid number catch it with a try/except and put out an appropriate message and ignore the number. Enter 7, 2, bob, 10, and 4 and match the output below."
      ],
      "metadata": {
        "id": "wYb3mutsIg4_"
      }
    },
    {
      "cell_type": "code",
      "source": [
        "largest_number = None\n",
        "smallest_number = None\n",
        "\n",
        "while True:\n",
        "  number = input(\"Enter a number: \")\n",
        "\n",
        "  if number.lower() ==  'done':\n",
        "    print(f\"Maximum is {largest_number}\")\n",
        "    print(f\"Minimum is {smallest_number}\")\n",
        "    break\n",
        "\n",
        "  try:\n",
        "    number = int(number)\n",
        "  except:\n",
        "    print(\"Invalid input\")\n",
        "    continue\n",
        "\n",
        "  if (largest_number == None) or (smallest_number == None):\n",
        "    largest_number = number\n",
        "    smallest_number = number\n",
        "  elif number < smallest_number:\n",
        "    smallest_number = number\n",
        "  elif number > largest_number:\n",
        "    largest_number = number\n"
      ],
      "metadata": {
        "colab": {
          "base_uri": "https://localhost:8080/"
        },
        "id": "Xwtk67l7IgWn",
        "outputId": "e5edfc39-455f-4777-8378-936d04901373"
      },
      "execution_count": null,
      "outputs": [
        {
          "output_type": "stream",
          "name": "stdout",
          "text": [
            "Enter a number: 7\n",
            "Enter a number: 2\n",
            "Enter a number: bob\n",
            "Invalid input\n",
            "Enter a number: 10\n",
            "Enter a number: 4\n",
            "Enter a number: done\n",
            "Maximum is 10\n",
            "Minimum is 2\n"
          ]
        }
      ]
    }
  ]
}