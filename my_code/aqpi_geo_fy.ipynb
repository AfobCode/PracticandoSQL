{
 "cells": [
  {
   "cell_type": "markdown",
   "metadata": {},
   "source": [
    "***\n",
    "# API Worked Example\n"
   ]
  },
  {
   "cell_type": "code",
   "execution_count": 16,
   "metadata": {},
   "outputs": [
    {
     "name": "stdout",
     "output_type": "stream",
     "text": [
      "Retrieving: https://py4e-data.dr-chuck.net/opengeo?q=Ann+Arbor%2C+MI\n",
      "{\n",
      "    \"type\": \"FeatureCollection\",\n",
      "    \"features\": [\n",
      "        {\n",
      "            \"type\": \"Feature\",\n",
      "            \"properties\": {\n",
      "                \"datasource\": {\n",
      "                    \"sourcename\": \"openstreetmap\",\n",
      "                    \"attribution\": \"\\u00a9 OpenStreetMap contributors\",\n",
      "                    \"license\": \"Open Database License\",\n",
      "                    \"url\": \"https://www.openstreetmap.org/copyright\"\n",
      "                },\n",
      "                \"country\": \"United States\",\n",
      "                \"country_code\": \"us\",\n",
      "                \"state\": \"Michigan\",\n",
      "                \"county\": \"Washtenaw County\",\n",
      "                \"city\": \"Ann Arbor\",\n",
      "                \"lon\": -83.7484616,\n",
      "                \"lat\": 42.2813722,\n",
      "                \"state_code\": \"MI\",\n",
      "                \"result_type\": \"city\",\n",
      "                \"formatted\": \"Ann Arbor, MI, United States of America\",\n",
      "                \"address_line1\": \"Ann Arbor, MI\",\n",
      "                \"address_line2\": \"United States of America\",\n",
      "                \"category\": \"administrative\",\n",
      "                \"timezone\": {\n",
      "                    \"display_name\": \"America/Detroit\",\n",
      "                    \"offset_STD\": \"-05:00\",\n",
      "                    \"offset_STD_seconds\": -18000,\n",
      "                    \"offset_DST\": \"-04:00\",\n",
      "                    \"offset_DST_seconds\": -14400,\n",
      "                    \"abbreviation_STD\": \"EST\",\n",
      "                    \"abbreviation_DST\": \"EDT\"\n",
      "                },\n",
      "                \"plus_code\": \"86JR77J2+GJ\",\n",
      "                \"plus_code_short\": \"J2+GJ Ann Arbor, Washtenaw County, United States\",\n",
      "                \"rank\": {\n",
      "                    \"importance\": 0.837069344370284,\n",
      "                    \"popularity\": 4.698969047117768,\n",
      "                    \"confidence\": 1,\n",
      "                    \"confidence_city_level\": 1,\n",
      "                    \"match_type\": \"full_match\"\n",
      "                },\n",
      "                \"place_id\": \"51f5937bcbe6ef54c0597580160104244540f00101f901da0f020000000000c00208\"\n",
      "            },\n",
      "            \"geometry\": {\n",
      "                \"type\": \"Point\",\n",
      "                \"coordinates\": [\n",
      "                    -83.7484616,\n",
      "                    42.2813722\n",
      "                ]\n",
      "            },\n",
      "            \"bbox\": [\n",
      "                -83.799572,\n",
      "                42.222668,\n",
      "                -83.675807,\n",
      "                42.3238941\n",
      "            ]\n",
      "        }\n",
      "    ],\n",
      "    \"query\": {\n",
      "        \"text\": \"Ann Arbor, MI\",\n",
      "        \"parsed\": {\n",
      "            \"city\": \"ann arbor\",\n",
      "            \"state\": \"mi\",\n",
      "            \"expected_type\": \"city\"\n",
      "        }\n",
      "    }\n",
      "}\n",
      "Address: Ann Arbor, MI, United States of America\n",
      "Lat: 42.2813722\n",
      "Lon: -83.7484616\n"
     ]
    }
   ],
   "source": [
    "from urllib import request, parse\n",
    "from ssl import create_default_context, CERT_NONE\n",
    "import json\n",
    "\n",
    "# Set SSL verification context\n",
    "\n",
    "cxt = create_default_context()\n",
    "cxt.check_hostname = False\n",
    "cxt.verify_mode = CERT_NONE\n",
    "\n",
    "# Dr. Chuck url for the API service\n",
    "service_url = \"https://py4e-data.dr-chuck.net/opengeo?\"\n",
    "\n",
    "while True:\n",
    "    address = input(\"Enter location: \")\n",
    "    if len(address) < 1: break\n",
    "\n",
    "    address = address.strip()\n",
    "    params = {}\n",
    "    params['q'] = address\n",
    "\n",
    "    url = service_url + parse.urlencode(params)\n",
    "\n",
    "    print(f\"Retrieving: {url}\")\n",
    "    web_request = request.urlopen(url, context= cxt)\n",
    "    web_data = web_request.read().decode()\n",
    "\n",
    "\n",
    "    try: \n",
    "        json_data = json.loads(web_data)\n",
    "    except:\n",
    "        json_data = None\n",
    "\n",
    "    if not json_data or ('features' not in json_data):\n",
    "        print(\"====== Download Error =====\")\n",
    "        print(web_data)\n",
    "        break\n",
    "    elif len(json_data['features']) == 0:\n",
    "        print(\"====== Object Not Found =====\")\n",
    "        print(web_data)\n",
    "        break\n",
    "\n",
    "    lat = json_data['features'][0]['properties']['lat']\n",
    "    lon = json_data['features'][0]['properties']['lon']\n",
    "    location = json_data['features'][0]['properties']['formatted']\n",
    "\n",
    "    print(json.dumps(json_data, indent=4))\n",
    "\n",
    "    print(f\"Address: {location}\\nLat: {lat}\\nLon: {lon}\")"
   ]
  },
  {
   "cell_type": "markdown",
   "metadata": {},
   "source": [
    "***\n",
    "Extracting Data from JSON\n",
    "\n",
    "In this assignment you will write a Python program somewhat similar to http://www.py4e.com/code3/json2.py. The program will prompt for a URL, read the JSON data from that URL using urllib and then parse and extract the comment counts from the JSON data, compute the sum of the numbers in the file and enter the sum below:\n",
    "\n",
    "We provide two files for this assignment. One is a sample file where we give you the sum for your testing and the other is the actual data you need to process for the assignment.\n",
    "\n",
    "Sample data: http://py4e-data.dr-chuck.net/comments_42.json (Sum=2553)\n",
    "Actual data: http://py4e-data.dr-chuck.net/comments_2159526.json (Sum ends with 0)\n",
    "You do not need to save these files to your folder since your program will read the data directly from the URL. Note: Each student will have a distinct data url for the assignment - so only use your own data url for analysis."
   ]
  },
  {
   "cell_type": "code",
   "execution_count": null,
   "metadata": {},
   "outputs": [
    {
     "name": "stdout",
     "output_type": "stream",
     "text": [
      "2900\n"
     ]
    }
   ],
   "source": [
    "from urllib import request, parse\n",
    "from ssl import create_default_context, CERT_NONE\n",
    "import json\n",
    "\n",
    "# Set SSL rules for web\n",
    "cxt = create_default_context()\n",
    "cxt.check_hostname = False\n",
    "cxt.verify_mode = CERT_NONE\n",
    "\n",
    "url =  input(\"Enter Location: \")\n",
    "#url_1 = \"http://py4e-data.dr-chuck.net/comments_42.json\"\n",
    "#url_2 = \"http://py4e-data.dr-chuck.net/comments_2159526.json\"\n",
    "\n",
    "web_page = request.urlopen(url,context=cxt)\n",
    "web_data = web_page.read().decode()\n",
    "\n",
    "try:\n",
    "    json_data = json.loads(web_data)\n",
    "except:\n",
    "    json_data = None\n",
    "\n",
    "if json_data is not None:\n",
    "\n",
    "    comments_sum = 0\n",
    "    for comment in json_data['comments']: comments_sum += comment['count']\n",
    "\n",
    "    print(comments_sum)"
   ]
  },
  {
   "cell_type": "markdown",
   "metadata": {},
   "source": [
    "***\n",
    "Calling a JSON API\n",
    "\n",
    "In this assignment you will write a Python program somewhat similar to http://www.py4e.com/code3/opengeo.py. The program will prompt for a location, contact a web service and retrieve JSON for the web service and parse that data, and retrieve the first plus_code from the JSON. An Open Location Code is a textual identifier that is another form of address based on the location of the address.\n",
    "API End Points\n",
    "\n",
    "To complete this assignment, you should use this API endpoint that has a static subset of the Open Street Map Data.\n",
    "\n",
    "http://py4e-data.dr-chuck.net/opengeo?\n",
    "This API also has no rate limit so you can test as often as you like. If you visit the URL with no parameters, you get \"No address...\" response.\n",
    "To call the API, you need to provide the address that you are requesting as the q= parameter that is properly URL encoded using the urllib.parse.urlencode() function as shown in http://www.py4e.com/code3/opengeo.py\n",
    "\n",
    "\n",
    "Test Data / Sample Execution\n",
    "\n",
    "You can test to see if your program is working with a location of \"South Federal University\" which will have a plus_code of \"6FV8QPRJ+VQ\".\n",
    "\n",
    "$ python solution.py\n",
    "Enter location: South Federal University\n",
    "Retrieving http://...\n",
    "Retrieved 1290 characters\n",
    "Plus code 6FV8QPRJ+VQ"
   ]
  },
  {
   "cell_type": "code",
   "execution_count": 38,
   "metadata": {},
   "outputs": [
    {
     "name": "stdout",
     "output_type": "stream",
     "text": [
      "Retrieving: http://py4e-data.dr-chuck.net/opengeo?q=University+of+Kansas\n",
      "3\n",
      "\"86C6XP3P+CQ\"\n"
     ]
    }
   ],
   "source": [
    "from urllib import request, parse\n",
    "from ssl import CERT_NONE, create_default_context\n",
    "import json\n",
    "\n",
    "# Set SSL rules for web request\n",
    "\n",
    "cxt= create_default_context()\n",
    "cxt.check_hostname = False\n",
    "cxt.verify_mode = CERT_NONE\n",
    "\n",
    "\n",
    "#Set URL to call\n",
    "url_api = \"http://py4e-data.dr-chuck.net/opengeo?\"\n",
    "while True:\n",
    "\n",
    "    address = input(\"Enter Location: \")\n",
    "    if len(address) < 1: break\n",
    "    params = {'q': address.strip()}\n",
    "\n",
    "    url = url_api + parse.urlencode(params)\n",
    "\n",
    "    print(f\"Retrieving: {url}\")\n",
    "\n",
    "    web_page = request.urlopen(url, context= cxt)\n",
    "    web_data = web_page.read().decode()\n",
    "\n",
    "    data_json = json.loads(web_data)\n",
    "\n",
    "    print(len(data_json))\n",
    "    print(json.dumps(data_json['features'][0]['properties']['plus_code'],indent=4))\n",
    "    "
   ]
  },
  {
   "cell_type": "code",
   "execution_count": 4,
   "metadata": {},
   "outputs": [
    {
     "name": "stdout",
     "output_type": "stream",
     "text": [
      "l i s t\n"
     ]
    }
   ],
   "source": [
    "print(chr(108),chr(105),chr(115),chr(116))"
   ]
  }
 ],
 "metadata": {
  "kernelspec": {
   "display_name": "Python 3",
   "language": "python",
   "name": "python3"
  },
  "language_info": {
   "codemirror_mode": {
    "name": "ipython",
    "version": 3
   },
   "file_extension": ".py",
   "mimetype": "text/x-python",
   "name": "python",
   "nbconvert_exporter": "python",
   "pygments_lexer": "ipython3",
   "version": "3.13.2"
  }
 },
 "nbformat": 4,
 "nbformat_minor": 2
}
